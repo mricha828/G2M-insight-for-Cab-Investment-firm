{
 "cells": [
  {
   "cell_type": "code",
   "execution_count": 8,
   "metadata": {},
   "outputs": [
    {
     "name": "stdout",
     "output_type": "stream",
     "text": [
      "Requirement already satisfied: pandas in /Users/richa/opt/anaconda3/lib/python3.9/site-packages (2.1.4)\n",
      "Requirement already satisfied: dask[complete] in /Users/richa/opt/anaconda3/lib/python3.9/site-packages (2022.2.1)\n",
      "Collecting dask[complete]\n",
      "  Downloading dask-2023.12.1-py3-none-any.whl (1.2 MB)\n",
      "\u001b[K     |████████████████████████████████| 1.2 MB 6.9 MB/s eta 0:00:01\n",
      "\u001b[?25hRequirement already satisfied: tzdata>=2022.1 in /Users/richa/opt/anaconda3/lib/python3.9/site-packages (from pandas) (2023.3)\n",
      "Requirement already satisfied: python-dateutil>=2.8.2 in /Users/richa/opt/anaconda3/lib/python3.9/site-packages (from pandas) (2.8.2)\n",
      "Requirement already satisfied: numpy<2,>=1.22.4 in /Users/richa/opt/anaconda3/lib/python3.9/site-packages (from pandas) (1.26.2)\n",
      "Requirement already satisfied: pytz>=2020.1 in /Users/richa/opt/anaconda3/lib/python3.9/site-packages (from pandas) (2021.3)\n",
      "Collecting click>=8.1\n",
      "  Using cached click-8.1.7-py3-none-any.whl (97 kB)\n",
      "Collecting importlib-metadata>=4.13.0\n",
      "  Downloading importlib_metadata-7.0.0-py3-none-any.whl (23 kB)\n",
      "Requirement already satisfied: cloudpickle>=1.5.0 in /Users/richa/opt/anaconda3/lib/python3.9/site-packages (from dask[complete]) (2.0.0)\n",
      "Requirement already satisfied: packaging>=20.0 in /Users/richa/opt/anaconda3/lib/python3.9/site-packages (from dask[complete]) (21.3)\n",
      "Requirement already satisfied: partd>=1.2.0 in /Users/richa/opt/anaconda3/lib/python3.9/site-packages (from dask[complete]) (1.2.0)\n",
      "Requirement already satisfied: toolz>=0.10.0 in /Users/richa/opt/anaconda3/lib/python3.9/site-packages (from dask[complete]) (0.11.2)\n",
      "Requirement already satisfied: pyyaml>=5.3.1 in /Users/richa/opt/anaconda3/lib/python3.9/site-packages (from dask[complete]) (6.0)\n",
      "Requirement already satisfied: fsspec>=2021.09.0 in /Users/richa/opt/anaconda3/lib/python3.9/site-packages (from dask[complete]) (2023.12.2)\n",
      "Collecting pyarrow>=7.0\n",
      "  Downloading pyarrow-14.0.1-cp39-cp39-macosx_10_14_x86_64.whl (26.9 MB)\n",
      "\u001b[K     |████████████████████████████████| 26.9 MB 54.2 MB/s eta 0:00:01\n",
      "\u001b[?25hCollecting lz4>=4.3.2\n",
      "  Downloading lz4-4.3.2-cp39-cp39-macosx_10_9_x86_64.whl (254 kB)\n",
      "\u001b[K     |████████████████████████████████| 254 kB 50.5 MB/s eta 0:00:01\n",
      "\u001b[?25hCollecting pyarrow-hotfix\n",
      "  Downloading pyarrow_hotfix-0.6-py3-none-any.whl (7.9 kB)\n",
      "Requirement already satisfied: zipp>=0.5 in /Users/richa/opt/anaconda3/lib/python3.9/site-packages (from importlib-metadata>=4.13.0->dask[complete]) (3.7.0)\n",
      "Requirement already satisfied: pyparsing!=3.0.5,>=2.0.2 in /Users/richa/opt/anaconda3/lib/python3.9/site-packages (from packaging>=20.0->dask[complete]) (3.0.4)\n",
      "Requirement already satisfied: locket in /Users/richa/opt/anaconda3/lib/python3.9/site-packages (from partd>=1.2.0->dask[complete]) (0.2.1)\n",
      "Requirement already satisfied: six>=1.5 in /Users/richa/opt/anaconda3/lib/python3.9/site-packages (from python-dateutil>=2.8.2->pandas) (1.16.0)\n",
      "Collecting distributed==2023.12.1\n",
      "  Downloading distributed-2023.12.1-py3-none-any.whl (999 kB)\n",
      "\u001b[K     |████████████████████████████████| 999 kB 36.0 MB/s eta 0:00:01\n",
      "\u001b[?25hRequirement already satisfied: bokeh>=2.4.2 in /Users/richa/opt/anaconda3/lib/python3.9/site-packages (from dask[complete]) (2.4.2)\n",
      "Requirement already satisfied: jinja2>=2.10.3 in /Users/richa/opt/anaconda3/lib/python3.9/site-packages (from dask[complete]) (2.11.3)\n",
      "Requirement already satisfied: urllib3>=1.24.3 in /Users/richa/opt/anaconda3/lib/python3.9/site-packages (from distributed==2023.12.1->dask[complete]) (1.26.9)\n",
      "Requirement already satisfied: sortedcontainers>=2.0.5 in /Users/richa/opt/anaconda3/lib/python3.9/site-packages (from distributed==2023.12.1->dask[complete]) (2.4.0)\n",
      "Requirement already satisfied: tornado>=6.0.4 in /Users/richa/opt/anaconda3/lib/python3.9/site-packages (from distributed==2023.12.1->dask[complete]) (6.1)\n",
      "Requirement already satisfied: msgpack>=1.0.0 in /Users/richa/opt/anaconda3/lib/python3.9/site-packages (from distributed==2023.12.1->dask[complete]) (1.0.2)\n",
      "Collecting locket\n",
      "  Downloading locket-1.0.0-py2.py3-none-any.whl (4.4 kB)\n",
      "Requirement already satisfied: tblib>=1.6.0 in /Users/richa/opt/anaconda3/lib/python3.9/site-packages (from distributed==2023.12.1->dask[complete]) (1.7.0)\n",
      "Collecting zict>=3.0.0\n",
      "  Downloading zict-3.0.0-py2.py3-none-any.whl (43 kB)\n",
      "\u001b[K     |████████████████████████████████| 43 kB 12.4 MB/s eta 0:00:01\n",
      "\u001b[?25hRequirement already satisfied: psutil>=5.7.2 in /Users/richa/opt/anaconda3/lib/python3.9/site-packages (from distributed==2023.12.1->dask[complete]) (5.8.0)\n",
      "Requirement already satisfied: pillow>=7.1.0 in /Users/richa/opt/anaconda3/lib/python3.9/site-packages (from bokeh>=2.4.2->dask[complete]) (9.0.1)\n",
      "Requirement already satisfied: typing-extensions>=3.10.0 in /Users/richa/opt/anaconda3/lib/python3.9/site-packages (from bokeh>=2.4.2->dask[complete]) (4.1.1)\n",
      "Requirement already satisfied: MarkupSafe>=0.23 in /Users/richa/opt/anaconda3/lib/python3.9/site-packages (from jinja2>=2.10.3->dask[complete]) (2.0.1)\n",
      "Installing collected packages: locket, importlib-metadata, click, zict, dask, distributed, pyarrow-hotfix, pyarrow, lz4\n",
      "  Attempting uninstall: locket\n",
      "    Found existing installation: locket 0.2.1\n",
      "    Uninstalling locket-0.2.1:\n",
      "      Successfully uninstalled locket-0.2.1\n",
      "  Attempting uninstall: importlib-metadata\n",
      "    Found existing installation: importlib-metadata 4.11.3\n",
      "    Uninstalling importlib-metadata-4.11.3:\n",
      "      Successfully uninstalled importlib-metadata-4.11.3\n",
      "  Attempting uninstall: click\n",
      "    Found existing installation: click 8.0.4\n",
      "    Uninstalling click-8.0.4:\n",
      "      Successfully uninstalled click-8.0.4\n",
      "  Attempting uninstall: zict\n",
      "    Found existing installation: zict 2.0.0\n",
      "    Uninstalling zict-2.0.0:\n",
      "      Successfully uninstalled zict-2.0.0\n",
      "  Attempting uninstall: dask\n",
      "    Found existing installation: dask 2022.2.1\n",
      "    Uninstalling dask-2022.2.1:\n",
      "      Successfully uninstalled dask-2022.2.1\n",
      "  Attempting uninstall: distributed\n",
      "    Found existing installation: distributed 2022.2.1\n",
      "    Uninstalling distributed-2022.2.1:\n",
      "      Successfully uninstalled distributed-2022.2.1\n",
      "Successfully installed click-8.1.7 dask-2023.12.1 distributed-2023.12.1 importlib-metadata-7.0.0 locket-1.0.0 lz4-4.3.2 pyarrow-14.0.1 pyarrow-hotfix-0.6 zict-3.0.0\n",
      "Note: you may need to restart the kernel to use updated packages.\n"
     ]
    }
   ],
   "source": [
    "pip install --upgrade pandas \"dask[complete]\""
   ]
  },
  {
   "cell_type": "code",
   "execution_count": 1,
   "metadata": {},
   "outputs": [],
   "source": [
    "import os\n",
    "import time"
   ]
  },
  {
   "cell_type": "code",
   "execution_count": 2,
   "metadata": {},
   "outputs": [
    {
     "data": {
      "text/plain": [
       "9006762395"
      ]
     },
     "execution_count": 2,
     "metadata": {},
     "output_type": "execute_result"
    }
   ],
   "source": [
    "#Size of the file\n",
    "os.path.getsize('/Users/richa/Downloads/2019-Nov.csv')"
   ]
  },
  {
   "cell_type": "markdown",
   "metadata": {},
   "source": [
    "## Read data with Dask"
   ]
  },
  {
   "cell_type": "code",
   "execution_count": 3,
   "metadata": {},
   "outputs": [
    {
     "name": "stderr",
     "output_type": "stream",
     "text": [
      "/Users/richa/opt/anaconda3/lib/python3.9/site-packages/scipy/__init__.py:146: UserWarning: A NumPy version >=1.16.5 and <1.23.0 is required for this version of SciPy (detected version 1.26.2\n",
      "  warnings.warn(f\"A NumPy version >={np_minversion} and <{np_maxversion}\"\n"
     ]
    },
    {
     "name": "stdout",
     "output_type": "stream",
     "text": [
      "Read csv with dask:  0.012286901473999023 sec\n"
     ]
    }
   ],
   "source": [
    "from dask import dataframe as dd\n",
    "start = time.time()\n",
    "dask_df = dd.read_csv('/Users/richa/Downloads/2019-Nov.csv')\n",
    "end = time.time()\n",
    "print(\"Read csv with dask: \",(end-start),\"sec\")"
   ]
  },
  {
   "cell_type": "markdown",
   "metadata": {},
   "source": [
    "## Read data with Pandas"
   ]
  },
  {
   "cell_type": "code",
   "execution_count": 4,
   "metadata": {},
   "outputs": [
    {
     "name": "stdout",
     "output_type": "stream",
     "text": [
      "Read csv with pandas:  82.80315399169922 sec\n"
     ]
    }
   ],
   "source": [
    "import pandas as pd\n",
    "start = time.time()\n",
    "df = pd.read_csv('/Users/richa/Downloads/2019-Nov.csv')\n",
    "end = time.time()\n",
    "print(\"Read csv with pandas: \",(end-start),\"sec\")"
   ]
  },
  {
   "cell_type": "code",
   "execution_count": null,
   "metadata": {},
   "outputs": [],
   "source": []
  },
  {
   "cell_type": "code",
   "execution_count": null,
   "metadata": {},
   "outputs": [],
   "source": []
  },
  {
   "cell_type": "code",
   "execution_count": null,
   "metadata": {},
   "outputs": [],
   "source": []
  },
  {
   "cell_type": "markdown",
   "metadata": {},
   "source": [
    "### Here Dask is better than Pandas"
   ]
  },
  {
   "cell_type": "code",
   "execution_count": 5,
   "metadata": {},
   "outputs": [],
   "source": [
    "from dask import dataframe as dd\n",
    "df = dd.read_csv('/Users/richa/Downloads/2019-Nov.csv',delimiter=',')"
   ]
  },
  {
   "cell_type": "code",
   "execution_count": 6,
   "metadata": {},
   "outputs": [
    {
     "name": "stdout",
     "output_type": "stream",
     "text": [
      "<class 'dask.dataframe.core.DataFrame'>\n",
      "Columns: 9 entries, event_time to user_session\n",
      "dtypes: float64(1), int64(3), string(5)"
     ]
    }
   ],
   "source": [
    "df.info()"
   ]
  },
  {
   "cell_type": "code",
   "execution_count": 7,
   "metadata": {},
   "outputs": [
    {
     "data": {
      "text/plain": [
       "67501979"
      ]
     },
     "execution_count": 7,
     "metadata": {},
     "output_type": "execute_result"
    }
   ],
   "source": [
    "#No. of Rows\n",
    "len(df.index)"
   ]
  },
  {
   "cell_type": "code",
   "execution_count": 8,
   "metadata": {},
   "outputs": [
    {
     "data": {
      "text/plain": [
       "9"
      ]
     },
     "execution_count": 8,
     "metadata": {},
     "output_type": "execute_result"
    }
   ],
   "source": [
    "#No, of Columns\n",
    "len(df.columns)"
   ]
  },
  {
   "cell_type": "code",
   "execution_count": 9,
   "metadata": {},
   "outputs": [],
   "source": [
    "# remove special character\n",
    "df.columns=df.columns.str.replace('[#,@,&]','')"
   ]
  },
  {
   "cell_type": "code",
   "execution_count": 10,
   "metadata": {},
   "outputs": [],
   "source": [
    "#To remove white space from columns\n",
    "df.columns = df.columns.str.replace(' ', '')"
   ]
  },
  {
   "cell_type": "code",
   "execution_count": 11,
   "metadata": {},
   "outputs": [
    {
     "data": {
      "text/plain": [
       "Index(['event_time', 'event_type', 'product_id', 'category_id',\n",
       "       'category_code', 'brand', 'price', 'user_id', 'user_session'],\n",
       "      dtype='object')"
      ]
     },
     "execution_count": 11,
     "metadata": {},
     "output_type": "execute_result"
    }
   ],
   "source": [
    "data=df.columns\n",
    "data"
   ]
  },
  {
   "cell_type": "markdown",
   "metadata": {},
   "source": [
    "### Validation"
   ]
  },
  {
   "cell_type": "code",
   "execution_count": 12,
   "metadata": {},
   "outputs": [],
   "source": [
    "import logging\n",
    "import os\n",
    "import subprocess\n",
    "import yaml\n",
    "import pandas as pd\n",
    "import datetime \n",
    "import gc\n",
    "import re"
   ]
  },
  {
   "cell_type": "code",
   "execution_count": 13,
   "metadata": {},
   "outputs": [
    {
     "name": "stdout",
     "output_type": "stream",
     "text": [
      "Requirement already satisfied: ruamel-yaml in /Users/richa/opt/anaconda3/lib/python3.9/site-packages (0.18.5)\r\n",
      "Requirement already satisfied: ruamel.yaml.clib>=0.2.7 in /Users/richa/opt/anaconda3/lib/python3.9/site-packages (from ruamel-yaml) (0.2.8)\r\n"
     ]
    }
   ],
   "source": [
    "!pip install ruamel-yaml"
   ]
  },
  {
   "cell_type": "code",
   "execution_count": 14,
   "metadata": {},
   "outputs": [],
   "source": [
    "import ruamel.yaml as yam\n",
    "def read_config_file(filepath):\n",
    "    with open(filepath, 'r') as stream:\n",
    "        try:\n",
    "            return yaml.load(stream, Loader=yaml.Loader)\n",
    "        except yaml.YAMLError as exc:\n",
    "            logging.error(exc)\n",
    "\n",
    "def col_header_val(df,table_config):\n",
    "    df.columns = df.columns.str.lower()\n",
    "    df.columns = df.columns.str.replace('[^\\w]','_',regex=True)\n",
    "    df.columns = list(map(lambda x: x.strip('_'), list(df.columns)))\n",
    "    expected_col = list(map(lambda x: x.lower(),  table_config['columns']))\n",
    "    expected_col.sort()\n",
    "    df.columns =list(map(lambda x: x.lower(), list(df.columns)))\n",
    "    df = df.reindex(sorted(df.columns), axis=1)\n",
    "    if len(df.columns) == len(expected_col) and list(expected_col)  == list(df.columns):\n",
    "        print(\"column name and column length validation passed\")\n",
    "        return 1\n",
    "    else:\n",
    "        print(\"column name and column length validation failed\")\n",
    "        mismatched_columns_file = list(set(df.columns).difference(expected_col))\n",
    "        print(\"Following File columns are not in the YAML file\",mismatched_columns_file)\n",
    "        missing_YAML_file = list(set(expected_col).difference(df.columns))\n",
    "        print(\"Following YAML columns are not in the file uploaded\",missing_YAML_file)\n",
    "        logging.info(f'df columns: {df.columns}')\n",
    "        logging.info(f'expected columns: {expected_col}')\n",
    "        return 0"
   ]
  },
  {
   "cell_type": "code",
   "execution_count": 15,
   "metadata": {},
   "outputs": [
    {
     "name": "stdout",
     "output_type": "stream",
     "text": [
      "Overwriting store.yaml\n"
     ]
    }
   ],
   "source": [
    "%%writefile store.yaml\n",
    "file_type: csv\n",
    "dataset_name: file\n",
    "file_name: 2019-Nov\n",
    "table_name: nov\n",
    "inbound_delimiter: \",\"\n",
    "outbound_delimiter: \"|\"\n",
    "skip_leading_rows: 1\n",
    "columns:\n",
    "    - event_time\n",
    "    - product_id\n",
    "    - category_id\n",
    "    - category_code\n",
    "    - brand\n",
    "    - price\n",
    "    - user_id\n",
    "    - user_session\n",
    "\n"
   ]
  },
  {
   "cell_type": "code",
   "execution_count": null,
   "metadata": {},
   "outputs": [],
   "source": []
  },
  {
   "cell_type": "code",
   "execution_count": 16,
   "metadata": {},
   "outputs": [
    {
     "name": "stdout",
     "output_type": "stream",
     "text": [
      "Requirement already satisfied: PyYAML in /Users/richa/opt/anaconda3/lib/python3.9/site-packages (6.0)\r\n"
     ]
    }
   ],
   "source": [
    "!pip3 install PyYAML"
   ]
  },
  {
   "cell_type": "code",
   "execution_count": 17,
   "metadata": {
    "scrolled": true
   },
   "outputs": [],
   "source": [
    "# Reading config file\n",
    "import yaml\n",
    "import utility as util\n",
    "config_data = read_config_file('/Users/richa/Downloads/store.yaml')"
   ]
  },
  {
   "cell_type": "code",
   "execution_count": 18,
   "metadata": {},
   "outputs": [
    {
     "data": {
      "text/plain": [
       "{'file_type': 'csv',\n",
       " 'dataset_name': 'file',\n",
       " 'file_name': '2019-Nov',\n",
       " 'table_name': 'nov',\n",
       " 'inbound_delimiter': ',',\n",
       " 'outbound_delimiter': '|',\n",
       " 'skip_leading_rows': 1,\n",
       " 'columns': ['event_time',\n",
       "  'product_id',\n",
       "  'category_id',\n",
       "  'category_code',\n",
       "  'brand',\n",
       "  'price',\n",
       "  'user_id',\n",
       "  'user_session']}"
      ]
     },
     "execution_count": 18,
     "metadata": {},
     "output_type": "execute_result"
    }
   ],
   "source": [
    "#data of config file\n",
    "config_data"
   ]
  },
  {
   "cell_type": "code",
   "execution_count": 19,
   "metadata": {},
   "outputs": [
    {
     "data": {
      "text/html": [
       "<div>\n",
       "<style scoped>\n",
       "    .dataframe tbody tr th:only-of-type {\n",
       "        vertical-align: middle;\n",
       "    }\n",
       "\n",
       "    .dataframe tbody tr th {\n",
       "        vertical-align: top;\n",
       "    }\n",
       "\n",
       "    .dataframe thead th {\n",
       "        text-align: right;\n",
       "    }\n",
       "</style>\n",
       "<table border=\"1\" class=\"dataframe\">\n",
       "  <thead>\n",
       "    <tr style=\"text-align: right;\">\n",
       "      <th></th>\n",
       "      <th>event_time</th>\n",
       "      <th>event_type</th>\n",
       "      <th>product_id</th>\n",
       "      <th>category_id</th>\n",
       "      <th>category_code</th>\n",
       "      <th>brand</th>\n",
       "      <th>price</th>\n",
       "      <th>user_id</th>\n",
       "      <th>user_session</th>\n",
       "    </tr>\n",
       "  </thead>\n",
       "  <tbody>\n",
       "    <tr>\n",
       "      <th>0</th>\n",
       "      <td>2019-11-01 00:00:00 UTC</td>\n",
       "      <td>view</td>\n",
       "      <td>1003461</td>\n",
       "      <td>2053013555631882655</td>\n",
       "      <td>electronics.smartphone</td>\n",
       "      <td>xiaomi</td>\n",
       "      <td>489.07</td>\n",
       "      <td>520088904</td>\n",
       "      <td>4d3b30da-a5e4-49df-b1a8-ba5943f1dd33</td>\n",
       "    </tr>\n",
       "    <tr>\n",
       "      <th>1</th>\n",
       "      <td>2019-11-01 00:00:00 UTC</td>\n",
       "      <td>view</td>\n",
       "      <td>5000088</td>\n",
       "      <td>2053013566100866035</td>\n",
       "      <td>appliances.sewing_machine</td>\n",
       "      <td>janome</td>\n",
       "      <td>293.65</td>\n",
       "      <td>530496790</td>\n",
       "      <td>8e5f4f83-366c-4f70-860e-ca7417414283</td>\n",
       "    </tr>\n",
       "    <tr>\n",
       "      <th>2</th>\n",
       "      <td>2019-11-01 00:00:01 UTC</td>\n",
       "      <td>view</td>\n",
       "      <td>17302664</td>\n",
       "      <td>2053013553853497655</td>\n",
       "      <td>&lt;NA&gt;</td>\n",
       "      <td>creed</td>\n",
       "      <td>28.31</td>\n",
       "      <td>561587266</td>\n",
       "      <td>755422e7-9040-477b-9bd2-6a6e8fd97387</td>\n",
       "    </tr>\n",
       "    <tr>\n",
       "      <th>3</th>\n",
       "      <td>2019-11-01 00:00:01 UTC</td>\n",
       "      <td>view</td>\n",
       "      <td>3601530</td>\n",
       "      <td>2053013563810775923</td>\n",
       "      <td>appliances.kitchen.washer</td>\n",
       "      <td>lg</td>\n",
       "      <td>712.87</td>\n",
       "      <td>518085591</td>\n",
       "      <td>3bfb58cd-7892-48cc-8020-2f17e6de6e7f</td>\n",
       "    </tr>\n",
       "    <tr>\n",
       "      <th>4</th>\n",
       "      <td>2019-11-01 00:00:01 UTC</td>\n",
       "      <td>view</td>\n",
       "      <td>1004775</td>\n",
       "      <td>2053013555631882655</td>\n",
       "      <td>electronics.smartphone</td>\n",
       "      <td>xiaomi</td>\n",
       "      <td>183.27</td>\n",
       "      <td>558856683</td>\n",
       "      <td>313628f1-68b8-460d-84f6-cec7a8796ef2</td>\n",
       "    </tr>\n",
       "  </tbody>\n",
       "</table>\n",
       "</div>"
      ],
      "text/plain": [
       "                event_time event_type  product_id          category_id  \\\n",
       "0  2019-11-01 00:00:00 UTC       view     1003461  2053013555631882655   \n",
       "1  2019-11-01 00:00:00 UTC       view     5000088  2053013566100866035   \n",
       "2  2019-11-01 00:00:01 UTC       view    17302664  2053013553853497655   \n",
       "3  2019-11-01 00:00:01 UTC       view     3601530  2053013563810775923   \n",
       "4  2019-11-01 00:00:01 UTC       view     1004775  2053013555631882655   \n",
       "\n",
       "               category_code   brand   price    user_id  \\\n",
       "0     electronics.smartphone  xiaomi  489.07  520088904   \n",
       "1  appliances.sewing_machine  janome  293.65  530496790   \n",
       "2                       <NA>   creed   28.31  561587266   \n",
       "3  appliances.kitchen.washer      lg  712.87  518085591   \n",
       "4     electronics.smartphone  xiaomi  183.27  558856683   \n",
       "\n",
       "                           user_session  \n",
       "0  4d3b30da-a5e4-49df-b1a8-ba5943f1dd33  \n",
       "1  8e5f4f83-366c-4f70-860e-ca7417414283  \n",
       "2  755422e7-9040-477b-9bd2-6a6e8fd97387  \n",
       "3  3bfb58cd-7892-48cc-8020-2f17e6de6e7f  \n",
       "4  313628f1-68b8-460d-84f6-cec7a8796ef2  "
      ]
     },
     "execution_count": 19,
     "metadata": {},
     "output_type": "execute_result"
    }
   ],
   "source": [
    "# Reading process of the file using Dask\n",
    "from dask import dataframe as dd\n",
    "df_sample = dd.read_csv('/Users/richa/Downloads/2019-Nov.csv',delimiter=',')\n",
    "df_sample.head()"
   ]
  },
  {
   "cell_type": "code",
   "execution_count": 20,
   "metadata": {},
   "outputs": [],
   "source": [
    "#Reading the file using config file\n",
    "file_type = config_data['file_type']\n",
    "source_file = \"/Users/richa/Downloads/\" + config_data['file_name'] + f'.{file_type}'"
   ]
  },
  {
   "cell_type": "code",
   "execution_count": 21,
   "metadata": {},
   "outputs": [
    {
     "data": {
      "text/html": [
       "<div>\n",
       "<style scoped>\n",
       "    .dataframe tbody tr th:only-of-type {\n",
       "        vertical-align: middle;\n",
       "    }\n",
       "\n",
       "    .dataframe tbody tr th {\n",
       "        vertical-align: top;\n",
       "    }\n",
       "\n",
       "    .dataframe thead th {\n",
       "        text-align: right;\n",
       "    }\n",
       "</style>\n",
       "<table border=\"1\" class=\"dataframe\">\n",
       "  <thead>\n",
       "    <tr style=\"text-align: right;\">\n",
       "      <th></th>\n",
       "      <th>event_time</th>\n",
       "      <th>event_type</th>\n",
       "      <th>product_id</th>\n",
       "      <th>category_id</th>\n",
       "      <th>category_code</th>\n",
       "      <th>brand</th>\n",
       "      <th>price</th>\n",
       "      <th>user_id</th>\n",
       "      <th>user_session</th>\n",
       "    </tr>\n",
       "  </thead>\n",
       "  <tbody>\n",
       "    <tr>\n",
       "      <th>0</th>\n",
       "      <td>2019-11-01 00:00:00 UTC</td>\n",
       "      <td>view</td>\n",
       "      <td>1003461</td>\n",
       "      <td>2053013555631882655</td>\n",
       "      <td>electronics.smartphone</td>\n",
       "      <td>xiaomi</td>\n",
       "      <td>489.07</td>\n",
       "      <td>520088904</td>\n",
       "      <td>4d3b30da-a5e4-49df-b1a8-ba5943f1dd33</td>\n",
       "    </tr>\n",
       "    <tr>\n",
       "      <th>1</th>\n",
       "      <td>2019-11-01 00:00:00 UTC</td>\n",
       "      <td>view</td>\n",
       "      <td>5000088</td>\n",
       "      <td>2053013566100866035</td>\n",
       "      <td>appliances.sewing_machine</td>\n",
       "      <td>janome</td>\n",
       "      <td>293.65</td>\n",
       "      <td>530496790</td>\n",
       "      <td>8e5f4f83-366c-4f70-860e-ca7417414283</td>\n",
       "    </tr>\n",
       "    <tr>\n",
       "      <th>2</th>\n",
       "      <td>2019-11-01 00:00:01 UTC</td>\n",
       "      <td>view</td>\n",
       "      <td>17302664</td>\n",
       "      <td>2053013553853497655</td>\n",
       "      <td>NaN</td>\n",
       "      <td>creed</td>\n",
       "      <td>28.31</td>\n",
       "      <td>561587266</td>\n",
       "      <td>755422e7-9040-477b-9bd2-6a6e8fd97387</td>\n",
       "    </tr>\n",
       "    <tr>\n",
       "      <th>3</th>\n",
       "      <td>2019-11-01 00:00:01 UTC</td>\n",
       "      <td>view</td>\n",
       "      <td>3601530</td>\n",
       "      <td>2053013563810775923</td>\n",
       "      <td>appliances.kitchen.washer</td>\n",
       "      <td>lg</td>\n",
       "      <td>712.87</td>\n",
       "      <td>518085591</td>\n",
       "      <td>3bfb58cd-7892-48cc-8020-2f17e6de6e7f</td>\n",
       "    </tr>\n",
       "    <tr>\n",
       "      <th>4</th>\n",
       "      <td>2019-11-01 00:00:01 UTC</td>\n",
       "      <td>view</td>\n",
       "      <td>1004775</td>\n",
       "      <td>2053013555631882655</td>\n",
       "      <td>electronics.smartphone</td>\n",
       "      <td>xiaomi</td>\n",
       "      <td>183.27</td>\n",
       "      <td>558856683</td>\n",
       "      <td>313628f1-68b8-460d-84f6-cec7a8796ef2</td>\n",
       "    </tr>\n",
       "  </tbody>\n",
       "</table>\n",
       "</div>"
      ],
      "text/plain": [
       "                event_time event_type  product_id          category_id  \\\n",
       "0  2019-11-01 00:00:00 UTC       view     1003461  2053013555631882655   \n",
       "1  2019-11-01 00:00:00 UTC       view     5000088  2053013566100866035   \n",
       "2  2019-11-01 00:00:01 UTC       view    17302664  2053013553853497655   \n",
       "3  2019-11-01 00:00:01 UTC       view     3601530  2053013563810775923   \n",
       "4  2019-11-01 00:00:01 UTC       view     1004775  2053013555631882655   \n",
       "\n",
       "               category_code   brand   price    user_id  \\\n",
       "0     electronics.smartphone  xiaomi  489.07  520088904   \n",
       "1  appliances.sewing_machine  janome  293.65  530496790   \n",
       "2                        NaN   creed   28.31  561587266   \n",
       "3  appliances.kitchen.washer      lg  712.87  518085591   \n",
       "4     electronics.smartphone  xiaomi  183.27  558856683   \n",
       "\n",
       "                           user_session  \n",
       "0  4d3b30da-a5e4-49df-b1a8-ba5943f1dd33  \n",
       "1  8e5f4f83-366c-4f70-860e-ca7417414283  \n",
       "2  755422e7-9040-477b-9bd2-6a6e8fd97387  \n",
       "3  3bfb58cd-7892-48cc-8020-2f17e6de6e7f  \n",
       "4  313628f1-68b8-460d-84f6-cec7a8796ef2  "
      ]
     },
     "execution_count": 21,
     "metadata": {},
     "output_type": "execute_result"
    }
   ],
   "source": [
    "import pandas as pd\n",
    "df = pd.read_csv('/Users/richa/Downloads/2019-Nov.csv',delimiter=config_data['inbound_delimiter'])\n",
    "df.head()"
   ]
  },
  {
   "cell_type": "code",
   "execution_count": 22,
   "metadata": {},
   "outputs": [
    {
     "name": "stdout",
     "output_type": "stream",
     "text": [
      "column name and column length validation failed\n",
      "Following File columns are not in the YAML file ['event_type']\n",
      "Following YAML columns are not in the file uploaded []\n"
     ]
    },
    {
     "data": {
      "text/plain": [
       "0"
      ]
     },
     "execution_count": 22,
     "metadata": {},
     "output_type": "execute_result"
    }
   ],
   "source": [
    "#validating the header of the file\n",
    "col_header_val(df,config_data)"
   ]
  },
  {
   "cell_type": "code",
   "execution_count": 23,
   "metadata": {},
   "outputs": [
    {
     "name": "stdout",
     "output_type": "stream",
     "text": [
      "columns of files are: Index(['event_time', 'event_type', 'product_id', 'category_id',\n",
      "       'category_code', 'brand', 'price', 'user_id', 'user_session'],\n",
      "      dtype='object')\n",
      "columns of YAML are: ['event_time', 'product_id', 'category_id', 'category_code', 'brand', 'price', 'user_id', 'user_session']\n"
     ]
    }
   ],
   "source": [
    "print(\"columns of files are:\" ,df.columns)\n",
    "print(\"columns of YAML are:\" ,config_data['columns'])"
   ]
  },
  {
   "cell_type": "code",
   "execution_count": 24,
   "metadata": {},
   "outputs": [
    {
     "name": "stdout",
     "output_type": "stream",
     "text": [
      "column name and column length validation failed\n",
      "Following File columns are not in the YAML file ['event_type']\n",
      "Following YAML columns are not in the file uploaded []\n",
      "validation failed\n"
     ]
    }
   ],
   "source": [
    "if col_header_val(df,config_data)==0:\n",
    "    print(\"validation failed\")\n",
    "else:\n",
    "    print(\"col validation passed\")"
   ]
  },
  {
   "cell_type": "code",
   "execution_count": 29,
   "metadata": {},
   "outputs": [
    {
     "data": {
      "text/plain": [
       "['/Users/richa/Downloads/2019-Nov.csv.gz/000.part',\n",
       " '/Users/richa/Downloads/2019-Nov.csv.gz/001.part',\n",
       " '/Users/richa/Downloads/2019-Nov.csv.gz/002.part',\n",
       " '/Users/richa/Downloads/2019-Nov.csv.gz/003.part',\n",
       " '/Users/richa/Downloads/2019-Nov.csv.gz/004.part',\n",
       " '/Users/richa/Downloads/2019-Nov.csv.gz/005.part',\n",
       " '/Users/richa/Downloads/2019-Nov.csv.gz/006.part',\n",
       " '/Users/richa/Downloads/2019-Nov.csv.gz/007.part',\n",
       " '/Users/richa/Downloads/2019-Nov.csv.gz/008.part',\n",
       " '/Users/richa/Downloads/2019-Nov.csv.gz/009.part',\n",
       " '/Users/richa/Downloads/2019-Nov.csv.gz/010.part',\n",
       " '/Users/richa/Downloads/2019-Nov.csv.gz/011.part',\n",
       " '/Users/richa/Downloads/2019-Nov.csv.gz/012.part',\n",
       " '/Users/richa/Downloads/2019-Nov.csv.gz/013.part',\n",
       " '/Users/richa/Downloads/2019-Nov.csv.gz/014.part',\n",
       " '/Users/richa/Downloads/2019-Nov.csv.gz/015.part',\n",
       " '/Users/richa/Downloads/2019-Nov.csv.gz/016.part',\n",
       " '/Users/richa/Downloads/2019-Nov.csv.gz/017.part',\n",
       " '/Users/richa/Downloads/2019-Nov.csv.gz/018.part',\n",
       " '/Users/richa/Downloads/2019-Nov.csv.gz/019.part',\n",
       " '/Users/richa/Downloads/2019-Nov.csv.gz/020.part',\n",
       " '/Users/richa/Downloads/2019-Nov.csv.gz/021.part',\n",
       " '/Users/richa/Downloads/2019-Nov.csv.gz/022.part',\n",
       " '/Users/richa/Downloads/2019-Nov.csv.gz/023.part',\n",
       " '/Users/richa/Downloads/2019-Nov.csv.gz/024.part',\n",
       " '/Users/richa/Downloads/2019-Nov.csv.gz/025.part',\n",
       " '/Users/richa/Downloads/2019-Nov.csv.gz/026.part',\n",
       " '/Users/richa/Downloads/2019-Nov.csv.gz/027.part',\n",
       " '/Users/richa/Downloads/2019-Nov.csv.gz/028.part',\n",
       " '/Users/richa/Downloads/2019-Nov.csv.gz/029.part',\n",
       " '/Users/richa/Downloads/2019-Nov.csv.gz/030.part',\n",
       " '/Users/richa/Downloads/2019-Nov.csv.gz/031.part',\n",
       " '/Users/richa/Downloads/2019-Nov.csv.gz/032.part',\n",
       " '/Users/richa/Downloads/2019-Nov.csv.gz/033.part',\n",
       " '/Users/richa/Downloads/2019-Nov.csv.gz/034.part',\n",
       " '/Users/richa/Downloads/2019-Nov.csv.gz/035.part',\n",
       " '/Users/richa/Downloads/2019-Nov.csv.gz/036.part',\n",
       " '/Users/richa/Downloads/2019-Nov.csv.gz/037.part',\n",
       " '/Users/richa/Downloads/2019-Nov.csv.gz/038.part',\n",
       " '/Users/richa/Downloads/2019-Nov.csv.gz/039.part',\n",
       " '/Users/richa/Downloads/2019-Nov.csv.gz/040.part',\n",
       " '/Users/richa/Downloads/2019-Nov.csv.gz/041.part',\n",
       " '/Users/richa/Downloads/2019-Nov.csv.gz/042.part',\n",
       " '/Users/richa/Downloads/2019-Nov.csv.gz/043.part',\n",
       " '/Users/richa/Downloads/2019-Nov.csv.gz/044.part',\n",
       " '/Users/richa/Downloads/2019-Nov.csv.gz/045.part',\n",
       " '/Users/richa/Downloads/2019-Nov.csv.gz/046.part',\n",
       " '/Users/richa/Downloads/2019-Nov.csv.gz/047.part',\n",
       " '/Users/richa/Downloads/2019-Nov.csv.gz/048.part',\n",
       " '/Users/richa/Downloads/2019-Nov.csv.gz/049.part',\n",
       " '/Users/richa/Downloads/2019-Nov.csv.gz/050.part',\n",
       " '/Users/richa/Downloads/2019-Nov.csv.gz/051.part',\n",
       " '/Users/richa/Downloads/2019-Nov.csv.gz/052.part',\n",
       " '/Users/richa/Downloads/2019-Nov.csv.gz/053.part',\n",
       " '/Users/richa/Downloads/2019-Nov.csv.gz/054.part',\n",
       " '/Users/richa/Downloads/2019-Nov.csv.gz/055.part',\n",
       " '/Users/richa/Downloads/2019-Nov.csv.gz/056.part',\n",
       " '/Users/richa/Downloads/2019-Nov.csv.gz/057.part',\n",
       " '/Users/richa/Downloads/2019-Nov.csv.gz/058.part',\n",
       " '/Users/richa/Downloads/2019-Nov.csv.gz/059.part',\n",
       " '/Users/richa/Downloads/2019-Nov.csv.gz/060.part',\n",
       " '/Users/richa/Downloads/2019-Nov.csv.gz/061.part',\n",
       " '/Users/richa/Downloads/2019-Nov.csv.gz/062.part',\n",
       " '/Users/richa/Downloads/2019-Nov.csv.gz/063.part',\n",
       " '/Users/richa/Downloads/2019-Nov.csv.gz/064.part',\n",
       " '/Users/richa/Downloads/2019-Nov.csv.gz/065.part',\n",
       " '/Users/richa/Downloads/2019-Nov.csv.gz/066.part',\n",
       " '/Users/richa/Downloads/2019-Nov.csv.gz/067.part',\n",
       " '/Users/richa/Downloads/2019-Nov.csv.gz/068.part',\n",
       " '/Users/richa/Downloads/2019-Nov.csv.gz/069.part',\n",
       " '/Users/richa/Downloads/2019-Nov.csv.gz/070.part',\n",
       " '/Users/richa/Downloads/2019-Nov.csv.gz/071.part',\n",
       " '/Users/richa/Downloads/2019-Nov.csv.gz/072.part',\n",
       " '/Users/richa/Downloads/2019-Nov.csv.gz/073.part',\n",
       " '/Users/richa/Downloads/2019-Nov.csv.gz/074.part',\n",
       " '/Users/richa/Downloads/2019-Nov.csv.gz/075.part',\n",
       " '/Users/richa/Downloads/2019-Nov.csv.gz/076.part',\n",
       " '/Users/richa/Downloads/2019-Nov.csv.gz/077.part',\n",
       " '/Users/richa/Downloads/2019-Nov.csv.gz/078.part',\n",
       " '/Users/richa/Downloads/2019-Nov.csv.gz/079.part',\n",
       " '/Users/richa/Downloads/2019-Nov.csv.gz/080.part',\n",
       " '/Users/richa/Downloads/2019-Nov.csv.gz/081.part',\n",
       " '/Users/richa/Downloads/2019-Nov.csv.gz/082.part',\n",
       " '/Users/richa/Downloads/2019-Nov.csv.gz/083.part',\n",
       " '/Users/richa/Downloads/2019-Nov.csv.gz/084.part',\n",
       " '/Users/richa/Downloads/2019-Nov.csv.gz/085.part',\n",
       " '/Users/richa/Downloads/2019-Nov.csv.gz/086.part',\n",
       " '/Users/richa/Downloads/2019-Nov.csv.gz/087.part',\n",
       " '/Users/richa/Downloads/2019-Nov.csv.gz/088.part',\n",
       " '/Users/richa/Downloads/2019-Nov.csv.gz/089.part',\n",
       " '/Users/richa/Downloads/2019-Nov.csv.gz/090.part',\n",
       " '/Users/richa/Downloads/2019-Nov.csv.gz/091.part',\n",
       " '/Users/richa/Downloads/2019-Nov.csv.gz/092.part',\n",
       " '/Users/richa/Downloads/2019-Nov.csv.gz/093.part',\n",
       " '/Users/richa/Downloads/2019-Nov.csv.gz/094.part',\n",
       " '/Users/richa/Downloads/2019-Nov.csv.gz/095.part',\n",
       " '/Users/richa/Downloads/2019-Nov.csv.gz/096.part',\n",
       " '/Users/richa/Downloads/2019-Nov.csv.gz/097.part',\n",
       " '/Users/richa/Downloads/2019-Nov.csv.gz/098.part',\n",
       " '/Users/richa/Downloads/2019-Nov.csv.gz/099.part',\n",
       " '/Users/richa/Downloads/2019-Nov.csv.gz/100.part',\n",
       " '/Users/richa/Downloads/2019-Nov.csv.gz/101.part',\n",
       " '/Users/richa/Downloads/2019-Nov.csv.gz/102.part',\n",
       " '/Users/richa/Downloads/2019-Nov.csv.gz/103.part',\n",
       " '/Users/richa/Downloads/2019-Nov.csv.gz/104.part',\n",
       " '/Users/richa/Downloads/2019-Nov.csv.gz/105.part',\n",
       " '/Users/richa/Downloads/2019-Nov.csv.gz/106.part',\n",
       " '/Users/richa/Downloads/2019-Nov.csv.gz/107.part',\n",
       " '/Users/richa/Downloads/2019-Nov.csv.gz/108.part',\n",
       " '/Users/richa/Downloads/2019-Nov.csv.gz/109.part',\n",
       " '/Users/richa/Downloads/2019-Nov.csv.gz/110.part',\n",
       " '/Users/richa/Downloads/2019-Nov.csv.gz/111.part',\n",
       " '/Users/richa/Downloads/2019-Nov.csv.gz/112.part',\n",
       " '/Users/richa/Downloads/2019-Nov.csv.gz/113.part',\n",
       " '/Users/richa/Downloads/2019-Nov.csv.gz/114.part',\n",
       " '/Users/richa/Downloads/2019-Nov.csv.gz/115.part',\n",
       " '/Users/richa/Downloads/2019-Nov.csv.gz/116.part',\n",
       " '/Users/richa/Downloads/2019-Nov.csv.gz/117.part',\n",
       " '/Users/richa/Downloads/2019-Nov.csv.gz/118.part',\n",
       " '/Users/richa/Downloads/2019-Nov.csv.gz/119.part',\n",
       " '/Users/richa/Downloads/2019-Nov.csv.gz/120.part',\n",
       " '/Users/richa/Downloads/2019-Nov.csv.gz/121.part',\n",
       " '/Users/richa/Downloads/2019-Nov.csv.gz/122.part',\n",
       " '/Users/richa/Downloads/2019-Nov.csv.gz/123.part',\n",
       " '/Users/richa/Downloads/2019-Nov.csv.gz/124.part',\n",
       " '/Users/richa/Downloads/2019-Nov.csv.gz/125.part',\n",
       " '/Users/richa/Downloads/2019-Nov.csv.gz/126.part',\n",
       " '/Users/richa/Downloads/2019-Nov.csv.gz/127.part',\n",
       " '/Users/richa/Downloads/2019-Nov.csv.gz/128.part',\n",
       " '/Users/richa/Downloads/2019-Nov.csv.gz/129.part',\n",
       " '/Users/richa/Downloads/2019-Nov.csv.gz/130.part',\n",
       " '/Users/richa/Downloads/2019-Nov.csv.gz/131.part',\n",
       " '/Users/richa/Downloads/2019-Nov.csv.gz/132.part',\n",
       " '/Users/richa/Downloads/2019-Nov.csv.gz/133.part',\n",
       " '/Users/richa/Downloads/2019-Nov.csv.gz/134.part',\n",
       " '/Users/richa/Downloads/2019-Nov.csv.gz/135.part',\n",
       " '/Users/richa/Downloads/2019-Nov.csv.gz/136.part',\n",
       " '/Users/richa/Downloads/2019-Nov.csv.gz/137.part',\n",
       " '/Users/richa/Downloads/2019-Nov.csv.gz/138.part',\n",
       " '/Users/richa/Downloads/2019-Nov.csv.gz/139.part']"
      ]
     },
     "execution_count": 29,
     "metadata": {},
     "output_type": "execute_result"
    }
   ],
   "source": [
    "import datetime\n",
    "import csv\n",
    "import gzip\n",
    "\n",
    "from dask import dataframe as dd\n",
    "df = dd.read_csv('/Users/richa/Downloads/2019-Nov.csv',delimiter=',')\n",
    "df.to_csv('2019-Nov.csv.gz',\n",
    "          sep='|',\n",
    "          header=True,\n",
    "          index=False,\n",
    "          quoting=csv.QUOTE_ALL,\n",
    "          compression='gzip',\n",
    "          quotechar='\"',\n",
    "          doublequote=True)"
   ]
  },
  {
   "cell_type": "code",
   "execution_count": 30,
   "metadata": {},
   "outputs": [
    {
     "name": "stdout",
     "output_type": "stream",
     "text": [
      "083.part\n",
      "129.part\n",
      "095.part\n",
      "113.part\n",
      "056.part\n",
      "001.part\n",
      "017.part\n",
      "105.part\n",
      "040.part\n",
      "037.part\n",
      "060.part\n",
      "125.part\n",
      "076.part\n",
      "099.part\n",
      "133.part\n",
      "021.part\n",
      "109.part\n",
      "108.part\n",
      "020.part\n",
      "077.part\n",
      "098.part\n",
      "132.part\n",
      "061.part\n",
      "124.part\n",
      "036.part\n",
      "104.part\n",
      "041.part\n",
      "016.part\n",
      "000.part\n",
      "112.part\n",
      "057.part\n",
      "094.part\n",
      "082.part\n",
      "128.part\n",
      "031.part\n",
      "066.part\n",
      "123.part\n",
      "089.part\n",
      "070.part\n",
      "135.part\n",
      "027.part\n",
      "119.part\n",
      "085.part\n",
      "139.part\n",
      "093.part\n",
      "115.part\n",
      "050.part\n",
      "007.part\n",
      "011.part\n",
      "103.part\n",
      "046.part\n",
      "102.part\n",
      "047.part\n",
      "010.part\n",
      "006.part\n",
      "114.part\n",
      "051.part\n",
      "138.part\n",
      "092.part\n",
      "084.part\n",
      "118.part\n",
      "026.part\n",
      "071.part\n",
      "134.part\n",
      "067.part\n",
      "122.part\n",
      "088.part\n",
      "030.part\n",
      "048.part\n",
      "009.part\n",
      "025.part\n",
      "137.part\n",
      "072.part\n",
      "121.part\n",
      "064.part\n",
      "033.part\n",
      "044.part\n",
      "101.part\n",
      "013.part\n",
      "005.part\n",
      "052.part\n",
      "117.part\n",
      "029.part\n",
      "091.part\n",
      "087.part\n",
      "068.part\n",
      "086.part\n",
      "069.part\n",
      "090.part\n",
      "028.part\n",
      "053.part\n",
      "116.part\n",
      "004.part\n",
      "012.part\n",
      "045.part\n",
      "100.part\n",
      "032.part\n",
      "120.part\n",
      "065.part\n",
      "136.part\n",
      "073.part\n",
      "024.part\n",
      "008.part\n",
      "049.part\n",
      "042.part\n",
      "107.part\n",
      "015.part\n",
      "003.part\n",
      "054.part\n",
      "111.part\n",
      "097.part\n",
      "078.part\n",
      "081.part\n",
      "039.part\n",
      "019.part\n",
      "058.part\n",
      "023.part\n",
      "131.part\n",
      "074.part\n",
      "127.part\n",
      "062.part\n",
      "035.part\n",
      "034.part\n",
      "126.part\n",
      "063.part\n",
      "130.part\n",
      "075.part\n",
      "022.part\n",
      "059.part\n",
      "018.part\n",
      "038.part\n",
      "080.part\n",
      "096.part\n",
      "079.part\n",
      "055.part\n",
      "110.part\n",
      "002.part\n",
      "014.part\n",
      "043.part\n",
      "106.part\n"
     ]
    }
   ],
   "source": [
    "#number of files in gz format folder\n",
    "import os\n",
    "entries = os.listdir('/Users/richa/Downloads/2019-Nov.csv.gz')\n",
    "for entry in entries:\n",
    "    print(entry)"
   ]
  },
  {
   "cell_type": "code",
   "execution_count": 31,
   "metadata": {},
   "outputs": [
    {
     "data": {
      "text/plain": [
       "4544"
      ]
     },
     "execution_count": 31,
     "metadata": {},
     "output_type": "execute_result"
    }
   ],
   "source": [
    "#size of the gz format folder\n",
    "os.path.getsize('/Users/richa/Downloads/2019-Nov.csv.gz')"
   ]
  },
  {
   "cell_type": "code",
   "execution_count": null,
   "metadata": {},
   "outputs": [],
   "source": []
  }
 ],
 "metadata": {
  "kernelspec": {
   "display_name": "Python 3 (ipykernel)",
   "language": "python",
   "name": "python3"
  },
  "language_info": {
   "codemirror_mode": {
    "name": "ipython",
    "version": 3
   },
   "file_extension": ".py",
   "mimetype": "text/x-python",
   "name": "python",
   "nbconvert_exporter": "python",
   "pygments_lexer": "ipython3",
   "version": "3.9.12"
  }
 },
 "nbformat": 4,
 "nbformat_minor": 4
}
